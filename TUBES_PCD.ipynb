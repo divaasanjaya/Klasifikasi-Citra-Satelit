{
  "cells": [
    {
      "cell_type": "markdown",
      "source": [
        "**Kanaya Letisia Kenza - 1301223122**\n",
        "\n",
        "**Diva Sanjaya Wardani - 1301223167**"
      ],
      "metadata": {
        "id": "Q9QmLS8oXaDL"
      }
    },
    {
      "cell_type": "code",
      "execution_count": 1,
      "metadata": {
        "id": "iaeJaMVJ7mRg"
      },
      "outputs": [],
      "source": [
        "import os\n",
        "import cv2\n",
        "import numpy as np\n",
        "from sklearn.model_selection import train_test_split\n",
        "import matplotlib.pyplot as plt\n",
        "from sklearn.metrics import accuracy_score, f1_score, precision_score, recall_score, classification_report, confusion_matrix"
      ]
    },
    {
      "cell_type": "code",
      "execution_count": 2,
      "metadata": {
        "colab": {
          "base_uri": "https://localhost:8080/"
        },
        "id": "M2wDx6hC6Nq_",
        "outputId": "18523b14-efde-47e3-c9a4-ef601848976f"
      },
      "outputs": [
        {
          "output_type": "stream",
          "name": "stdout",
          "text": [
            "Path to dataset files: /kaggle/input/satellite-image-classification/data\n"
          ]
        }
      ],
      "source": [
        "import kagglehub\n",
        "\n",
        "dataset_path = kagglehub.dataset_download(\"mahmoudreda55/satellite-image-classification\")\n",
        "dataset_path = os.path.join(dataset_path, 'data')\n",
        "\n",
        "print(\"Path to dataset files:\", dataset_path)"
      ]
    },
    {
      "cell_type": "markdown",
      "metadata": {
        "id": "y4uMY9Tb78D0"
      },
      "source": [
        "## Pre-Processing"
      ]
    },
    {
      "cell_type": "code",
      "execution_count": 3,
      "metadata": {
        "colab": {
          "base_uri": "https://localhost:8080/"
        },
        "id": "1TFQ0S2V7t9u",
        "outputId": "02d8a7f1-6120-4117-86f4-05c8587d1643"
      },
      "outputs": [
        {
          "output_type": "stream",
          "name": "stdout",
          "text": [
            "Kategori: ['cloudy', 'desert', 'green_area', 'water']\n"
          ]
        }
      ],
      "source": [
        "categories = os.listdir(dataset_path)\n",
        "print(\"Kategori:\", categories)"
      ]
    },
    {
      "cell_type": "code",
      "execution_count": 4,
      "metadata": {
        "id": "WqtM_sxK7ySC"
      },
      "outputs": [],
      "source": [
        "# Inisialisasi data dan label\n",
        "data = []\n",
        "labels = []\n",
        "\n",
        "# Ukuran gambar yang diinginkan\n",
        "img_size = (128, 128)"
      ]
    },
    {
      "cell_type": "code",
      "execution_count": 5,
      "metadata": {
        "id": "hXRrCEaX73Vw"
      },
      "outputs": [],
      "source": [
        "# Preprocessing gambar\n",
        "for label, category in enumerate(categories):\n",
        "    category_path = os.path.join(dataset_path, category)\n",
        "    for file in os.listdir(category_path):\n",
        "        file_path = os.path.join(category_path, file)\n",
        "        img = cv2.imread(file_path)\n",
        "        if img is not None:\n",
        "            img = cv2.resize(img, img_size)\n",
        "            img = img / 255.0  # Normalisasi\n",
        "            data.append(img)\n",
        "            labels.append(label)"
      ]
    },
    {
      "cell_type": "code",
      "execution_count": 6,
      "metadata": {
        "id": "-epXRDscE-o2"
      },
      "outputs": [],
      "source": [
        "# Konversi ke array NumPy\n",
        "data = np.array(data)\n",
        "labels = np.array(labels)\n",
        "\n",
        "# Menyimpan data yang telah diproses\n",
        "np.save('data.npy', data)\n",
        "np.save('labels.npy', labels)"
      ]
    },
    {
      "cell_type": "markdown",
      "metadata": {
        "id": "GNQvEF1x8ABy"
      },
      "source": [
        "## Ekstraksi Fitur dengan Color Histogram"
      ]
    },
    {
      "cell_type": "code",
      "execution_count": 7,
      "metadata": {
        "colab": {
          "base_uri": "https://localhost:8080/",
          "height": 407
        },
        "id": "MhaFwZvE8Dtz",
        "outputId": "5ee682ad-4d3c-4c44-d4f8-160422400d0e"
      },
      "outputs": [
        {
          "output_type": "display_data",
          "data": {
            "text/plain": [
              "<Figure size 1000x400 with 1 Axes>"
            ],
            "image/png": "[encoded data removed]"
          },
          "metadata": {}
        }
      ],
      "source": [
        "def extract_color_histogram(image, bins=(8, 8, 8)):\n",
        "    # Konversi gambar ke ruang warna HSV\n",
        "    hsv = cv2.cvtColor((image * 255).astype(\"uint8\"), cv2.COLOR_BGR2HSV)\n",
        "    # Menghitung histogram\n",
        "    hist = cv2.calcHist([hsv], [0, 1, 2], None, bins,\n",
        "                        [0, 180, 0, 256, 0, 256])\n",
        "    # Normalisasi histogram\n",
        "    cv2.normalize(hist, hist)\n",
        "    return hist.flatten()\n",
        "\n",
        "# Ekstraksi fitur untuk semua gambar\n",
        "features = [extract_color_histogram(img) for img in data]\n",
        "features = np.array(features)\n",
        "\n",
        "# Ambil histogram dari satu gambar (contoh)\n",
        "image = data[10]\n",
        "hist = extract_color_histogram(image)\n",
        "\n",
        "# Visualisasi histogram\n",
        "plt.figure(figsize=(10, 4))\n",
        "plt.title(\"Color Histogram (HSV)\")\n",
        "plt.xlabel(\"Bin Index\")\n",
        "plt.ylabel(\"Normalized Frequency\")\n",
        "plt.plot(hist, color='purple')  # Atau plt.bar(range(len(hist)), hist)\n",
        "plt.grid(True)\n",
        "plt.tight_layout()\n",
        "plt.show()"
      ]
    },
    {
      "cell_type": "markdown",
      "metadata": {
        "id": "lPlKgewDCW6Y"
      },
      "source": [
        "## Pengembangan Model dengan Random Forest"
      ]
    },
    {
      "cell_type": "code",
      "execution_count": 8,
      "metadata": {
        "id": "yNeG0hKlCWgF"
      },
      "outputs": [],
      "source": [
        "from sklearn.ensemble import RandomForestClassifier\n",
        "from sklearn.model_selection import train_test_split\n",
        "from sklearn.metrics import classification_report, accuracy_score, confusion_matrix\n",
        "import seaborn as sns\n",
        "import matplotlib.pyplot as plt\n"
      ]
    },
    {
      "cell_type": "code",
      "execution_count": 9,
      "metadata": {
        "id": "BLaa4AHjCdg0"
      },
      "outputs": [],
      "source": [
        "# Split data\n",
        "X_train, X_test, y_train, y_test = train_test_split(\n",
        "    features, labels, test_size=0.2, random_state=42, stratify=labels\n",
        ")\n"
      ]
    },
    {
      "cell_type": "code",
      "execution_count": 10,
      "metadata": {
        "id": "ZlcXUKunCgOO"
      },
      "outputs": [],
      "source": [
        "param_grid = {\n",
        "    'n_estimators': [50, 100, 150],\n",
        "    'max_depth': [8, 16, 32, None],\n",
        "    'max_features': ['sqrt', 'log2'],\n",
        "    'min_samples_split': [2, 5, 10],\n",
        "    'min_samples_leaf': [1, 2, 4],\n",
        "}\n",
        "\n",
        "rf = RandomForestClassifier()\n"
      ]
    },
    {
      "cell_type": "code",
      "execution_count": 11,
      "metadata": {
        "colab": {
          "base_uri": "https://localhost:8080/"
        },
        "id": "xH0Nf4uYq6iU",
        "outputId": "f6fa88a3-d497-4d2b-c955-b0b7fe6697e4"
      },
      "outputs": [
        {
          "output_type": "stream",
          "name": "stdout",
          "text": [
            "Collecting scikit-optimize\n",
            "  Downloading scikit_optimize-0.10.2-py2.py3-none-any.whl.metadata (9.7 kB)\n",
            "Requirement already satisfied: joblib>=0.11 in /usr/local/lib/python3.11/dist-packages (from scikit-optimize) (1.5.0)\n",
            "Collecting pyaml>=16.9 (from scikit-optimize)\n",
            "  Downloading pyaml-25.1.0-py3-none-any.whl.metadata (12 kB)\n",
            "Requirement already satisfied: numpy>=1.20.3 in /usr/local/lib/python3.11/dist-packages (from scikit-optimize) (2.0.2)\n",
            "Requirement already satisfied: scipy>=1.1.0 in /usr/local/lib/python3.11/dist-packages (from scikit-optimize) (1.15.3)\n",
            "Requirement already satisfied: scikit-learn>=1.0.0 in /usr/local/lib/python3.11/dist-packages (from scikit-optimize) (1.6.1)\n",
            "Requirement already satisfied: packaging>=21.3 in /usr/local/lib/python3.11/dist-packages (from scikit-optimize) (24.2)\n",
            "Requirement already satisfied: PyYAML in /usr/local/lib/python3.11/dist-packages (from pyaml>=16.9->scikit-optimize) (6.0.2)\n",
            "Requirement already satisfied: threadpoolctl>=3.1.0 in /usr/local/lib/python3.11/dist-packages (from scikit-learn>=1.0.0->scikit-optimize) (3.6.0)\n",
            "Downloading scikit_optimize-0.10.2-py2.py3-none-any.whl (107 kB)\n",
            "\u001b[2K   \u001b[90m━━━━━━━━━━━━━━━━━━━━━━━━━━━━━━━━━━━━━━━━\u001b[0m \u001b[32m107.8/107.8 kB\u001b[0m \u001b[31m2.7 MB/s\u001b[0m eta \u001b[36m0:00:00\u001b[0m\n",
            "\u001b[?25hDownloading pyaml-25.1.0-py3-none-any.whl (26 kB)\n",
            "Installing collected packages: pyaml, scikit-optimize\n",
            "Successfully installed pyaml-25.1.0 scikit-optimize-0.10.2\n"
          ]
        }
      ],
      "source": [
        "pip install scikit-optimize"
      ]
    },
    {
      "cell_type": "code",
      "execution_count": 12,
      "metadata": {
        "colab": {
          "base_uri": "https://localhost:8080/"
        },
        "id": "d-ZwfkCnq8Rc",
        "outputId": "6cc2d810-d9d3-4476-f5a6-77c2b0fef188"
      },
      "outputs": [
        {
          "output_type": "stream",
          "name": "stdout",
          "text": [
            "Best Score: 0.9458263657664323\n",
            "Best Parameters: OrderedDict([('max_depth', 32), ('max_features', 'sqrt'), ('min_samples_leaf', 1), ('min_samples_split', 10), ('n_estimators', 150)])\n"
          ]
        }
      ],
      "source": [
        "from skopt import BayesSearchCV\n",
        "bayes_opt = BayesSearchCV(\n",
        "    estimator=rf,\n",
        "    search_spaces=param_grid,\n",
        "    n_iter=30,\n",
        "    cv=5,\n",
        "    n_jobs=-1,\n",
        "    random_state=42,\n",
        "    scoring='accuracy'\n",
        ")\n",
        "\n",
        "bayes_opt.fit(X_train, y_train)\n",
        "\n",
        "y_train_pred = bayes_opt.predict(X_train)\n",
        "\n",
        "print(\"Best Score:\", bayes_opt.best_score_)\n",
        "print(\"Best Parameters:\", bayes_opt.best_params_)"
      ]
    },
    {
      "cell_type": "code",
      "execution_count": 13,
      "metadata": {
        "colab": {
          "base_uri": "https://localhost:8080/",
          "height": 1000
        },
        "id": "TC7yeb-nCkJG",
        "outputId": "2fcbe8d3-48b0-41b5-d4b4-4892dd7b8503"
      },
      "outputs": [
        {
          "output_type": "stream",
          "name": "stdout",
          "text": [
            "Evaluasi Model Training Random Forest:\n",
            "Akurasi: 0.9740230905861457\n",
            "F1-Score: 0.9740059174481158\n",
            "Precision: 0.9748298903794156\n",
            "Recall: 0.9740230905861457\n",
            "\n",
            "Evaluasi Model Testing Random Forest:\n",
            "Akurasi: 0.9494232475598935\n",
            "F1-Score: 0.9493349696627726\n",
            "Precision: 0.94998686344939\n",
            "Recall: 0.9494232475598935\n",
            "Classification Report:\n",
            "              precision    recall  f1-score   support\n",
            "\n",
            "           0       0.99      0.99      0.99       300\n",
            "           1       1.00      1.00      1.00       227\n",
            "           2       0.89      0.94      0.91       300\n",
            "           3       0.93      0.88      0.91       300\n",
            "\n",
            "    accuracy                           0.95      1127\n",
            "   macro avg       0.95      0.95      0.95      1127\n",
            "weighted avg       0.95      0.95      0.95      1127\n",
            "\n"
          ]
        },
        {
          "output_type": "display_data",
          "data": {
            "text/plain": [
              "<Figure size 1000x800 with 2 Axes>"
            ],
            "image/png": "[encoded data removed]"
          },
          "metadata": {}
        }
      ],
      "source": [
        "best_params = bayes_opt.best_params_\n",
        "RF_classifier = RandomForestClassifier(\n",
        "    n_estimators=best_params['n_estimators'],\n",
        "    max_depth=best_params['max_depth'],\n",
        "    max_features=best_params['max_features'],\n",
        "    min_samples_leaf=best_params['min_samples_leaf'],\n",
        "    min_samples_split=best_params['min_samples_split'],\n",
        "    random_state=42,\n",
        "    n_jobs=-1)\n",
        "RF_classifier.fit(X_train, y_train)\n",
        "\n",
        "y_pred = RF_classifier.predict(X_test)\n",
        "\n",
        "print(\"Evaluasi Model Training Random Forest:\")\n",
        "print(\"Akurasi:\", accuracy_score(y_train, y_train_pred))\n",
        "print(\"F1-Score:\", f1_score(y_train, y_train_pred, average=\"weighted\"))\n",
        "print(\"Precision:\", precision_score(y_train, y_train_pred, average=\"weighted\"))\n",
        "print(\"Recall:\", recall_score(y_train, y_train_pred, average=\"weighted\"))\n",
        "\n",
        "print(\"\")\n",
        "print(\"Evaluasi Model Testing Random Forest:\")\n",
        "print(\"Akurasi:\", accuracy_score(y_test, y_pred))\n",
        "print(\"F1-Score:\", f1_score(y_test, y_pred, average=\"weighted\"))\n",
        "print(\"Precision:\", precision_score(y_test, y_pred, average=\"weighted\"))\n",
        "print(\"Recall:\", recall_score(y_test, y_pred, average=\"weighted\"))\n",
        "print(\"Classification Report:\")\n",
        "print(classification_report(y_test, y_pred))\n",
        "\n",
        "# Confusion Matrix\n",
        "cm = confusion_matrix(y_test, y_pred)\n",
        "plt.figure(figsize=(10, 8))\n",
        "sns.heatmap(cm, annot=True, fmt=\"d\", cmap=\"Blues\")\n",
        "plt.title(\"Confusion Matrix - Random Forest\")\n",
        "plt.xlabel(\"Predicted\")\n",
        "plt.ylabel(\"Actual\")\n",
        "plt.show()\n"
      ]
    },
    {
      "cell_type": "code",
      "execution_count": 14,
      "metadata": {
        "colab": {
          "base_uri": "https://localhost:8080/"
        },
        "id": "szlCUBQ-dPwf",
        "outputId": "45f30a55-d169-4a26-d4ae-66f988b5113a"
      },
      "outputs": [
        {
          "output_type": "execute_result",
          "data": {
            "text/plain": [
              "['bismillahpcdtubesfixlagi.pkl']"
            ]
          },
          "metadata": {},
          "execution_count": 14
        }
      ],
      "source": [
        "# Menyimpan model\n",
        "import joblib\n",
        "joblib.dump(RF_classifier, \"bismillahpcdtubesfixlagi.pkl\")"
      ]
    },
    {
      "cell_type": "code",
      "execution_count": 15,
      "metadata": {
        "colab": {
          "base_uri": "https://localhost:8080/",
          "height": 17
        },
        "id": "QUQ6K1I4pzZQ",
        "outputId": "12236140-63d1-4adb-8e29-8cd473c8cefe"
      },
      "outputs": [
        {
          "output_type": "display_data",
          "data": {
            "text/plain": [
              "<IPython.core.display.Javascript object>"
            ],
            "application/javascript": [
              "\n",
              "    async function download(id, filename, size) {\n",
              "      if (!google.colab.kernel.accessAllowed) {\n",
              "        return;\n",
              "      }\n",
              "      const div = document.createElement('div');\n",
              "      const label = document.createElement('label');\n",
              "      label.textContent = `Downloading \"${filename}\": `;\n",
              "      div.appendChild(label);\n",
              "      const progress = document.createElement('progress');\n",
              "      progress.max = size;\n",
              "      div.appendChild(progress);\n",
              "      document.body.appendChild(div);\n",
              "\n",
              "      const buffers = [];\n",
              "      let downloaded = 0;\n",
              "\n",
              "      const channel = await google.colab.kernel.comms.open(id);\n",
              "      // Send a message to notify the kernel that we're ready.\n",
              "      channel.send({})\n",
              "\n",
              "      for await (const message of channel.messages) {\n",
              "        // Send a message to notify the kernel that we're ready.\n",
              "        channel.send({})\n",
              "        if (message.buffers) {\n",
              "          for (const buffer of message.buffers) {\n",
              "            buffers.push(buffer);\n",
              "            downloaded += buffer.byteLength;\n",
              "            progress.value = downloaded;\n",
              "          }\n",
              "        }\n",
              "      }\n",
              "      const blob = new Blob(buffers, {type: 'application/binary'});\n",
              "      const a = document.createElement('a');\n",
              "      a.href = window.URL.createObjectURL(blob);\n",
              "      a.download = filename;\n",
              "      div.appendChild(a);\n",
              "      a.click();\n",
              "      div.remove();\n",
              "    }\n",
              "  "
            ]
          },
          "metadata": {}
        },
        {
          "output_type": "display_data",
          "data": {
            "text/plain": [
              "<IPython.core.display.Javascript object>"
            ],
            "application/javascript": [
              "download(\"download_4bad0385-216a-4ab1-93ef-4ca379a968be\", \"bismillahpcdtubesfixlagi.pkl\", 5959609)"
            ]
          },
          "metadata": {}
        }
      ],
      "source": [
        "from google.colab import files\n",
        "\n",
        "# Unduh file model .pkl\n",
        "files.download('/content/bismillahpcdtubesfixlagi.pkl')\n"
      ]
    }
  ],
  "metadata": {
    "colab": {
      "provenance": []
    },
    "kernelspec": {
      "display_name": "Python 3",
      "name": "python3"
    },
    "language_info": {
      "name": "python"
    }
  },
  "nbformat": 4,
  "nbformat_minor": 0
}